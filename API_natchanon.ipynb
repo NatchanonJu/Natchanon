{
 "cells": [
  {
   "cell_type": "code",
   "execution_count": 2,
   "id": "cfbfea52-fc3f-4e72-8ef5-7e7abbd53693",
   "metadata": {},
   "outputs": [],
   "source": [
    "import json\n",
    "import requests\n",
    "import pandas as pd\n",
    "import matplotlib.pyplot as plt"
   ]
  },
  {
   "cell_type": "code",
   "execution_count": 7,
   "id": "ef8ef956-4fb9-4165-9d6b-dfe873454af7",
   "metadata": {},
   "outputs": [
    {
     "name": "stdout",
     "output_type": "stream",
     "text": [
      "Random Cat Fact :  Among many other diseases, cats can suffer from anorexia, senility, feline AIDS and acne.\n"
     ]
    }
   ],
   "source": [
    "#1 CatFACT\n",
    "CatFACT = requests.get(\"https://catfact.ninja/fact\")\n",
    "txt = CatFACT.json()\n",
    "today_fact = txt[\"fact\"]\n",
    "print(\"Random Cat Fact : \", today_fact)"
   ]
  },
  {
   "cell_type": "code",
   "execution_count": 11,
   "id": "22843bff-b60b-4077-934b-47416997eda5",
   "metadata": {},
   "outputs": [
    {
     "data": {
      "text/plain": [
       "{'activity': 'Volunteer at your local food pantry',\n",
       " 'type': 'charity',\n",
       " 'participants': 1,\n",
       " 'price': 0,\n",
       " 'link': '',\n",
       " 'key': '1878070',\n",
       " 'accessibility': 0.1}"
      ]
     },
     "execution_count": 11,
     "metadata": {},
     "output_type": "execute_result"
    }
   ],
   "source": [
    "txt"
   ]
  },
  {
   "cell_type": "code",
   "execution_count": 8,
   "id": "3fff344b-861a-4310-b3e9-25137b3c46d9",
   "metadata": {},
   "outputs": [
    {
     "data": {
      "text/plain": [
       "[Text(0, 0, '44991.2'), Text(0, 0, '32912.2'), Text(0, 0, '38417.9')]"
      ]
     },
     "execution_count": 8,
     "metadata": {},
     "output_type": "execute_result"
    },
    {
     "data": {
      "image/png": "[encoded data removed]",
      "text/plain": [
       "<Figure size 432x288 with 1 Axes>"
      ]
     },
     "metadata": {
      "needs_background": "light"
     },
     "output_type": "display_data"
    }
   ],
   "source": [
    "#2 COINPRICE\n",
    "COINPRICE_TABLE = pd.DataFrame([])\n",
    "COINPRICE = requests.get(\"https://api.coindesk.com/v1/bpi/currentprice.json\")\n",
    "txt = COINPRICE.json()\n",
    "COINPRICE_TABLE = pd.DataFrame(txt[\"bpi\"])\n",
    "#cleaning\n",
    "COINPRICE_TABLE = COINPRICE_TABLE.drop('symbol')\n",
    "COINPRICE_TABLE_Trans = COINPRICE_TABLE.T\n",
    "\n",
    "label = COINPRICE_TABLE_Trans['code']\n",
    "height = COINPRICE_TABLE_Trans['rate_float']\n",
    "\n",
    "fig, ax = plt.subplots()\n",
    "ax.set_title('Bitcoin Price')\n",
    "ax.bar(label, height)\n",
    "ax.bar_label(ax.containers[0])"
   ]
  },
  {
   "cell_type": "code",
   "execution_count": 16,
   "id": "7b12a217-0322-487f-a695-acd204414683",
   "metadata": {},
   "outputs": [
    {
     "name": "stdout",
     "output_type": "stream",
     "text": [
      "relaxation activity : Start a daily journal\n"
     ]
    }
   ],
   "source": [
    "#3 Bored\n",
    "boredapi = requests.get(\"https://www.boredapi.com/api/activity/\")\n",
    "txt = boredapi.json()\n",
    "Random_Activity = txt[\"activity\"]\n",
    "Type_Activity = txt[\"type\"]\n",
    "print(Type_Activity,\"activity :\", Random_Activity)"
   ]
  },
  {
   "cell_type": "code",
   "execution_count": 21,
   "id": "cfe098c8-9854-491e-9f0f-c1568c6a36bb",
   "metadata": {},
   "outputs": [
    {
     "data": {
      "text/html": [
       "<div>\n",
       "<style scoped>\n",
       "    .dataframe tbody tr th:only-of-type {\n",
       "        vertical-align: middle;\n",
       "    }\n",
       "\n",
       "    .dataframe tbody tr th {\n",
       "        vertical-align: top;\n",
       "    }\n",
       "\n",
       "    .dataframe thead th {\n",
       "        text-align: right;\n",
       "    }\n",
       "</style>\n",
       "<table border=\"1\" class=\"dataframe\">\n",
       "  <thead>\n",
       "    <tr style=\"text-align: right;\">\n",
       "      <th></th>\n",
       "      <th>Name</th>\n",
       "      <th>Gender_Prediction</th>\n",
       "      <th>Probability</th>\n",
       "    </tr>\n",
       "  </thead>\n",
       "  <tbody>\n",
       "    <tr>\n",
       "      <th>0</th>\n",
       "      <td>Natchanon</td>\n",
       "      <td>male</td>\n",
       "      <td>0.93</td>\n",
       "    </tr>\n",
       "    <tr>\n",
       "      <th>1</th>\n",
       "      <td>Deepali</td>\n",
       "      <td>female</td>\n",
       "      <td>0.97</td>\n",
       "    </tr>\n",
       "    <tr>\n",
       "      <th>2</th>\n",
       "      <td>Paskorn</td>\n",
       "      <td>male</td>\n",
       "      <td>0.83</td>\n",
       "    </tr>\n",
       "    <tr>\n",
       "      <th>3</th>\n",
       "      <td>Ferdin</td>\n",
       "      <td>male</td>\n",
       "      <td>0.96</td>\n",
       "    </tr>\n",
       "    <tr>\n",
       "      <th>4</th>\n",
       "      <td>Panada</td>\n",
       "      <td>female</td>\n",
       "      <td>0.85</td>\n",
       "    </tr>\n",
       "    <tr>\n",
       "      <th>5</th>\n",
       "      <td>Sun</td>\n",
       "      <td>male</td>\n",
       "      <td>0.52</td>\n",
       "    </tr>\n",
       "    <tr>\n",
       "      <th>6</th>\n",
       "      <td>Pop</td>\n",
       "      <td>male</td>\n",
       "      <td>0.65</td>\n",
       "    </tr>\n",
       "  </tbody>\n",
       "</table>\n",
       "</div>"
      ],
      "text/plain": [
       "        Name Gender_Prediction  Probability\n",
       "0  Natchanon              male         0.93\n",
       "1    Deepali            female         0.97\n",
       "2    Paskorn              male         0.83\n",
       "3     Ferdin              male         0.96\n",
       "4     Panada            female         0.85\n",
       "5        Sun              male         0.52\n",
       "6        Pop              male         0.65"
      ]
     },
     "execution_count": 21,
     "metadata": {},
     "output_type": "execute_result"
    }
   ],
   "source": [
    "#4 Genderize\n",
    "def getGenders(names):\n",
    "    url = \"\"\n",
    "    cnt = 0\n",
    "    if not isinstance(names,list):\n",
    "        names = [names,]\n",
    "\n",
    "    for name in names:\n",
    "        if url == \"\":\n",
    "            url = \"name[0]=\" + name\n",
    "        else:\n",
    "            cnt += 1\n",
    "            url = url + \"&name[\" + str(cnt) + \"]=\" + name\n",
    "\n",
    "\n",
    "    req = requests.get(\"https://api.genderize.io?\" + url)\n",
    "    results = json.loads(req.text)\n",
    "\n",
    "    retrn = []\n",
    "    for result in results:\n",
    "        if result[\"gender\"] is not None:\n",
    "            retrn.append((result[\"name\"],result[\"gender\"], result[\"probability\"]))\n",
    "        else:\n",
    "            retrn.append((u'None',u'0.0'))\n",
    "    return retrn\n",
    "\n",
    "Gender_predict_record = pd.DataFrame(getGenders([\"Natchanon\",\"Deepali\",\"Paskorn\",\"Ferdin\",\"Panada\", \"Sun\", \"Pop\"]))\n",
    "Gender_predict_record.rename(columns={\n",
    "        0: 'Name', \n",
    "        1: 'Gender_Prediction',\n",
    "        2: 'Probability'\n",
    "    }, inplace=True)\n",
    "Gender_predict_record"
   ]
  },
  {
   "cell_type": "code",
   "execution_count": 24,
   "id": "e6d6f6aa-6157-42eb-945c-a10660f06c22",
   "metadata": {},
   "outputs": [
    {
     "data": {
      "text/html": [
       "<div>\n",
       "<style scoped>\n",
       "    .dataframe tbody tr th:only-of-type {\n",
       "        vertical-align: middle;\n",
       "    }\n",
       "\n",
       "    .dataframe tbody tr th {\n",
       "        vertical-align: top;\n",
       "    }\n",
       "\n",
       "    .dataframe thead th {\n",
       "        text-align: right;\n",
       "    }\n",
       "</style>\n",
       "<table border=\"1\" class=\"dataframe\">\n",
       "  <thead>\n",
       "    <tr style=\"text-align: right;\">\n",
       "      <th></th>\n",
       "      <th>ID Nation</th>\n",
       "      <th>Nation</th>\n",
       "      <th>ID Year</th>\n",
       "      <th>Year</th>\n",
       "      <th>Population</th>\n",
       "      <th>Slug Nation</th>\n",
       "    </tr>\n",
       "  </thead>\n",
       "  <tbody>\n",
       "    <tr>\n",
       "      <th>6</th>\n",
       "      <td>01000US</td>\n",
       "      <td>United States</td>\n",
       "      <td>2013</td>\n",
       "      <td>2013</td>\n",
       "      <td>316128839</td>\n",
       "      <td>united-states</td>\n",
       "    </tr>\n",
       "    <tr>\n",
       "      <th>5</th>\n",
       "      <td>01000US</td>\n",
       "      <td>United States</td>\n",
       "      <td>2014</td>\n",
       "      <td>2014</td>\n",
       "      <td>318857056</td>\n",
       "      <td>united-states</td>\n",
       "    </tr>\n",
       "    <tr>\n",
       "      <th>4</th>\n",
       "      <td>01000US</td>\n",
       "      <td>United States</td>\n",
       "      <td>2015</td>\n",
       "      <td>2015</td>\n",
       "      <td>321418821</td>\n",
       "      <td>united-states</td>\n",
       "    </tr>\n",
       "    <tr>\n",
       "      <th>3</th>\n",
       "      <td>01000US</td>\n",
       "      <td>United States</td>\n",
       "      <td>2016</td>\n",
       "      <td>2016</td>\n",
       "      <td>323127515</td>\n",
       "      <td>united-states</td>\n",
       "    </tr>\n",
       "    <tr>\n",
       "      <th>2</th>\n",
       "      <td>01000US</td>\n",
       "      <td>United States</td>\n",
       "      <td>2017</td>\n",
       "      <td>2017</td>\n",
       "      <td>325719178</td>\n",
       "      <td>united-states</td>\n",
       "    </tr>\n",
       "    <tr>\n",
       "      <th>1</th>\n",
       "      <td>01000US</td>\n",
       "      <td>United States</td>\n",
       "      <td>2018</td>\n",
       "      <td>2018</td>\n",
       "      <td>327167439</td>\n",
       "      <td>united-states</td>\n",
       "    </tr>\n",
       "    <tr>\n",
       "      <th>0</th>\n",
       "      <td>01000US</td>\n",
       "      <td>United States</td>\n",
       "      <td>2019</td>\n",
       "      <td>2019</td>\n",
       "      <td>328239523</td>\n",
       "      <td>united-states</td>\n",
       "    </tr>\n",
       "  </tbody>\n",
       "</table>\n",
       "</div>"
      ],
      "text/plain": [
       "  ID Nation         Nation  ID Year  Year  Population    Slug Nation\n",
       "6   01000US  United States     2013  2013   316128839  united-states\n",
       "5   01000US  United States     2014  2014   318857056  united-states\n",
       "4   01000US  United States     2015  2015   321418821  united-states\n",
       "3   01000US  United States     2016  2016   323127515  united-states\n",
       "2   01000US  United States     2017  2017   325719178  united-states\n",
       "1   01000US  United States     2018  2018   327167439  united-states\n",
       "0   01000US  United States     2019  2019   328239523  united-states"
      ]
     },
     "execution_count": 24,
     "metadata": {},
     "output_type": "execute_result"
    }
   ],
   "source": [
    "#5 USA POPULATION DATA\n",
    "USAPP = requests.get(\"https://datausa.io/api/data?drilldowns=Nation&measures=Population\")\n",
    "txt = USAPP.json()\n",
    "Population_USA_table = pd.DataFrame(txt[\"data\"])\n",
    "Population_USA_table = Population_USA_table.sort_values(['Year'], ascending=[1])\n",
    "Population_USA_table"
   ]
  },
  {
   "cell_type": "code",
   "execution_count": 25,
   "id": "3e469ce4-ccb2-453b-acf0-cb70f621287a",
   "metadata": {},
   "outputs": [
    {
     "data": {
      "text/plain": [
       "<AxesSubplot:title={'center':'Population of USA 2013 to 2019'}, xlabel='Year'>"
      ]
     },
     "execution_count": 25,
     "metadata": {},
     "output_type": "execute_result"
    },
    {
     "data": {
      "image/png": "[encoded data removed]",
      "text/plain": [
       "<Figure size 936x648 with 1 Axes>"
      ]
     },
     "metadata": {
      "needs_background": "light"
     },
     "output_type": "display_data"
    }
   ],
   "source": [
    "Population_USA_table.plot(title='Population of USA 2013 to 2019',x='Year', y='Population',figsize=(13,9))"
   ]
  }
 ],
 "metadata": {
  "kernelspec": {
   "display_name": "Python 3",
   "language": "python",
   "name": "python3"
  },
  "language_info": {
   "codemirror_mode": {
    "name": "ipython",
    "version": 3
   },
   "file_extension": ".py",
   "mimetype": "text/x-python",
   "name": "python",
   "nbconvert_exporter": "python",
   "pygments_lexer": "ipython3",
   "version": "3.9.1"
  }
 },
 "nbformat": 4,
 "nbformat_minor": 5
}
