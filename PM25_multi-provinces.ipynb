{
 "cells": [
  {
   "cell_type": "code",
   "execution_count": 1,
   "id": "f5be3213-144b-493c-9c5c-686c04828bc3",
   "metadata": {},
   "outputs": [],
   "source": [
    "import pandas as pd\n",
    "import seaborn as sns\n",
    "import matplotlib.pyplot as plt"
   ]
  },
  {
   "cell_type": "code",
   "execution_count": 2,
   "id": "10c560a7-13e5-4c18-b1ba-2da0ee6d4e17",
   "metadata": {},
   "outputs": [],
   "source": [
    "BKK = pd.read_csv('Bangkok.csv')\n",
    "SS =  pd.read_csv('Samut_Sakhon.csv')\n",
    "SP =  pd.read_csv('Samut_Prakan.csv')\n",
    "MN =  pd.read_csv('Mueang_Nonthaburi.csv')\n",
    "KL =  pd.read_csv('Khlong_Luang.csv')\n",
    "CM = pd.read_csv('Chiang_Mai.csv')"
   ]
  },
  {
   "cell_type": "code",
   "execution_count": 3,
   "id": "6e7bdd6b-146c-4e5a-acdd-f7f563584de3",
   "metadata": {},
   "outputs": [],
   "source": [
    "BKK=BKK.drop_duplicates()\n",
    "SS=SS.drop_duplicates()\n",
    "SP=SP.drop_duplicates()\n",
    "MN=MN.drop_duplicates()\n",
    "KL=KL.drop_duplicates()\n",
    "CM=CM.drop_duplicates()"
   ]
  },
  {
   "cell_type": "code",
   "execution_count": 4,
   "id": "8d75893c-4c5f-42d9-9923-d79cb606e2bd",
   "metadata": {},
   "outputs": [],
   "source": [
    "PMBKK = pd.DataFrame({\"Bangkok\":BKK['PM2.5']})\n",
    "PMSS = pd.DataFrame({\"Samut_Sakhon\":SS['PM2.5']})\n",
    "PMSP = pd.DataFrame({\"Samut_Prakan\":SP['PM2.5']})\n",
    "PMMN = pd.DataFrame({\"Mueang_Nonthaburi\":MN['PM2.5']})\n",
    "PMKL = pd.DataFrame({\"Khlong_Luang\":KL['PM2.5']})\n",
    "PMCM = pd.DataFrame({\"Chiang_Mai\":CM['PM2.5']})"
   ]
  },
  {
   "cell_type": "code",
   "execution_count": 5,
   "id": "b9d4bcd3-1573-4549-a59e-b65b37776b68",
   "metadata": {},
   "outputs": [],
   "source": [
    "PMS = pd.concat([PMBKK,PMSS,PMSP,PMMN,PMKL,PMCM], axis=1, join='inner')"
   ]
  },
  {
   "cell_type": "code",
   "execution_count": 6,
   "id": "02c11eef-62e3-4846-9e18-80ffa1e7f749",
   "metadata": {},
   "outputs": [
    {
     "data": {
      "text/html": [
       "<div>\n",
       "<style scoped>\n",
       "    .dataframe tbody tr th:only-of-type {\n",
       "        vertical-align: middle;\n",
       "    }\n",
       "\n",
       "    .dataframe tbody tr th {\n",
       "        vertical-align: top;\n",
       "    }\n",
       "\n",
       "    .dataframe thead th {\n",
       "        text-align: right;\n",
       "    }\n",
       "</style>\n",
       "<table border=\"1\" class=\"dataframe\">\n",
       "  <thead>\n",
       "    <tr style=\"text-align: right;\">\n",
       "      <th></th>\n",
       "      <th>Bangkok</th>\n",
       "      <th>Samut_Sakhon</th>\n",
       "      <th>Samut_Prakan</th>\n",
       "      <th>Mueang_Nonthaburi</th>\n",
       "      <th>Khlong_Luang</th>\n",
       "      <th>Chiang_Mai</th>\n",
       "    </tr>\n",
       "  </thead>\n",
       "  <tbody>\n",
       "    <tr>\n",
       "      <th>count</th>\n",
       "      <td>36154.000000</td>\n",
       "      <td>36154.000000</td>\n",
       "      <td>36154.000000</td>\n",
       "      <td>36154.000000</td>\n",
       "      <td>36154.000000</td>\n",
       "      <td>36154.000000</td>\n",
       "    </tr>\n",
       "    <tr>\n",
       "      <th>mean</th>\n",
       "      <td>24.655111</td>\n",
       "      <td>25.178959</td>\n",
       "      <td>25.183390</td>\n",
       "      <td>24.354611</td>\n",
       "      <td>24.839357</td>\n",
       "      <td>28.381864</td>\n",
       "    </tr>\n",
       "    <tr>\n",
       "      <th>std</th>\n",
       "      <td>13.916281</td>\n",
       "      <td>17.520691</td>\n",
       "      <td>14.230597</td>\n",
       "      <td>14.405111</td>\n",
       "      <td>15.044228</td>\n",
       "      <td>23.841651</td>\n",
       "    </tr>\n",
       "    <tr>\n",
       "      <th>min</th>\n",
       "      <td>2.500000</td>\n",
       "      <td>2.900000</td>\n",
       "      <td>3.500000</td>\n",
       "      <td>3.000000</td>\n",
       "      <td>2.300000</td>\n",
       "      <td>1.300000</td>\n",
       "    </tr>\n",
       "    <tr>\n",
       "      <th>25%</th>\n",
       "      <td>14.600000</td>\n",
       "      <td>13.400000</td>\n",
       "      <td>15.500000</td>\n",
       "      <td>13.900000</td>\n",
       "      <td>13.900000</td>\n",
       "      <td>12.200000</td>\n",
       "    </tr>\n",
       "    <tr>\n",
       "      <th>50%</th>\n",
       "      <td>20.800000</td>\n",
       "      <td>19.900000</td>\n",
       "      <td>21.200000</td>\n",
       "      <td>20.300000</td>\n",
       "      <td>20.800000</td>\n",
       "      <td>19.200000</td>\n",
       "    </tr>\n",
       "    <tr>\n",
       "      <th>75%</th>\n",
       "      <td>31.000000</td>\n",
       "      <td>30.800000</td>\n",
       "      <td>30.400000</td>\n",
       "      <td>30.900000</td>\n",
       "      <td>31.800000</td>\n",
       "      <td>36.800000</td>\n",
       "    </tr>\n",
       "    <tr>\n",
       "      <th>max</th>\n",
       "      <td>115.400000</td>\n",
       "      <td>237.600000</td>\n",
       "      <td>221.000000</td>\n",
       "      <td>122.600000</td>\n",
       "      <td>244.300000</td>\n",
       "      <td>203.800000</td>\n",
       "    </tr>\n",
       "  </tbody>\n",
       "</table>\n",
       "</div>"
      ],
      "text/plain": [
       "            Bangkok  Samut_Sakhon  Samut_Prakan  Mueang_Nonthaburi  \\\n",
       "count  36154.000000  36154.000000  36154.000000       36154.000000   \n",
       "mean      24.655111     25.178959     25.183390          24.354611   \n",
       "std       13.916281     17.520691     14.230597          14.405111   \n",
       "min        2.500000      2.900000      3.500000           3.000000   \n",
       "25%       14.600000     13.400000     15.500000          13.900000   \n",
       "50%       20.800000     19.900000     21.200000          20.300000   \n",
       "75%       31.000000     30.800000     30.400000          30.900000   \n",
       "max      115.400000    237.600000    221.000000         122.600000   \n",
       "\n",
       "       Khlong_Luang    Chiang_Mai  \n",
       "count  36154.000000  36154.000000  \n",
       "mean      24.839357     28.381864  \n",
       "std       15.044228     23.841651  \n",
       "min        2.300000      1.300000  \n",
       "25%       13.900000     12.200000  \n",
       "50%       20.800000     19.200000  \n",
       "75%       31.800000     36.800000  \n",
       "max      244.300000    203.800000  "
      ]
     },
     "execution_count": 6,
     "metadata": {},
     "output_type": "execute_result"
    }
   ],
   "source": [
    "PMS.describe()"
   ]
  },
  {
   "cell_type": "code",
   "execution_count": 7,
   "id": "e634bfbe-cd5e-4f05-ab4e-5fc95f5e315c",
   "metadata": {},
   "outputs": [],
   "source": [
    "PMSCORR =PMS.corr()"
   ]
  },
  {
   "cell_type": "code",
   "execution_count": 8,
   "id": "17bf7c49-35e8-4fba-a21b-26bebba25a9b",
   "metadata": {},
   "outputs": [
    {
     "data": {
      "text/plain": [
       "<function matplotlib.pyplot.show(close=None, block=None)>"
      ]
     },
     "execution_count": 8,
     "metadata": {},
     "output_type": "execute_result"
    },
    {
     "data": {
      "image/png": "[encoded data removed]",
      "text/plain": [
       "<Figure size 720x720 with 2 Axes>"
      ]
     },
     "metadata": {
      "needs_background": "light"
     },
     "output_type": "display_data"
    }
   ],
   "source": [
    "plt.figure(figsize=(10,10))\n",
    "sns.heatmap(PMSCORR, annot=True)\n",
    "plt.show"
   ]
  }
 ],
 "metadata": {
  "kernelspec": {
   "display_name": "Python 3",
   "language": "python",
   "name": "python3"
  },
  "language_info": {
   "codemirror_mode": {
    "name": "ipython",
    "version": 3
   },
   "file_extension": ".py",
   "mimetype": "text/x-python",
   "name": "python",
   "nbconvert_exporter": "python",
   "pygments_lexer": "ipython3",
   "version": "3.9.1"
  }
 },
 "nbformat": 4,
 "nbformat_minor": 5
}
