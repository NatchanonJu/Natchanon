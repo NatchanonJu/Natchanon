{
 "cells": [
  {
   "cell_type": "code",
   "execution_count": 160,
   "id": "042d2261-e56b-4fda-bfbf-08bc7f77606b",
   "metadata": {},
   "outputs": [
    {
     "name": "stdout",
     "output_type": "stream",
     "text": [
      "        1 \n",
      "       1 1 \n",
      "      1 2 1 \n",
      "     1 3 3 1 \n",
      "    1 4 6 4 1 \n",
      "   1 5 10 10 5 1 \n",
      "  1 6 15 20 15 6 1 \n",
      " 1 7 21 35 35 21 7 1 \n",
      "1 8 28 56 70 56 28 8 1 \n"
     ]
    }
   ],
   "source": [
    "import numpy as np\n",
    "\n",
    "n = 9 #set number of row\n",
    "\n",
    "pascal = np.zeros((n, n), dtype=object)\n",
    "pascal[0, 0] = 1 #set first row, first element as 1\n",
    "pascal[1,0] = 1 #set second row, first element as 1\n",
    "pascal[1,1] = 1 #set second row, second element as 1\n",
    "\n",
    "\n",
    "for n in range(2, n):\n",
    "    for r in range(0, n+1):\n",
    "        pascal[n, r] = pascal[n-1, r-1] + pascal[n-1, r]\n",
    "            \n",
    "smax=n\n",
    "for c in range(0,n+1):\n",
    "    for s in range(0,smax):\n",
    "        print(\" \",end =\"\")\n",
    "    smax=smax-1\n",
    "    for r in range(0,n+1):\n",
    "        if pascal[c,r]!=0: #prevent printing zero\n",
    "            print(pascal[c,r], end=\" \") #print element\n",
    "    print()    #next line\n",
    "            "
   ]
  },
  {
   "cell_type": "code",
   "execution_count": null,
   "id": "c1b3c3fb-9493-4598-a6a2-9156102a9782",
   "metadata": {},
   "outputs": [],
   "source": []
  }
 ],
 "metadata": {
  "kernelspec": {
   "display_name": "Python 3",
   "language": "python",
   "name": "python3"
  },
  "language_info": {
   "codemirror_mode": {
    "name": "ipython",
    "version": 3
   },
   "file_extension": ".py",
   "mimetype": "text/x-python",
   "name": "python",
   "nbconvert_exporter": "python",
   "pygments_lexer": "ipython3",
   "version": "3.9.1"
  }
 },
 "nbformat": 4,
 "nbformat_minor": 5
}
