{
 "cells": [
  {
   "cell_type": "code",
   "execution_count": 11,
   "id": "55f85dc7-0b47-4c1b-97dc-0ca66fb7abf8",
   "metadata": {},
   "outputs": [],
   "source": [
    "import json\n",
    "import requests\n",
    "import pandas as pd\n",
    "import numpy as np"
   ]
  },
  {
   "cell_type": "code",
   "execution_count": 18,
   "id": "1404bb2d-afb5-42b1-86a8-f1a9cf4b1001",
   "metadata": {},
   "outputs": [
    {
     "data": {
      "text/html": [
       "<div>\n",
       "<style scoped>\n",
       "    .dataframe tbody tr th:only-of-type {\n",
       "        vertical-align: middle;\n",
       "    }\n",
       "\n",
       "    .dataframe tbody tr th {\n",
       "        vertical-align: top;\n",
       "    }\n",
       "\n",
       "    .dataframe thead th {\n",
       "        text-align: right;\n",
       "    }\n",
       "</style>\n",
       "<table border=\"1\" class=\"dataframe\">\n",
       "  <thead>\n",
       "    <tr style=\"text-align: right;\">\n",
       "      <th></th>\n",
       "      <th>rank</th>\n",
       "      <th>id</th>\n",
       "    </tr>\n",
       "    <tr>\n",
       "      <th>title</th>\n",
       "      <th></th>\n",
       "      <th></th>\n",
       "    </tr>\n",
       "  </thead>\n",
       "  <tbody>\n",
       "    <tr>\n",
       "      <th>The Shawshank Redemption</th>\n",
       "      <td>1</td>\n",
       "      <td>tt0111161</td>\n",
       "    </tr>\n",
       "    <tr>\n",
       "      <th>The Godfather</th>\n",
       "      <td>2</td>\n",
       "      <td>tt0068646</td>\n",
       "    </tr>\n",
       "    <tr>\n",
       "      <th>The Godfather: Part II</th>\n",
       "      <td>3</td>\n",
       "      <td>tt0071562</td>\n",
       "    </tr>\n",
       "    <tr>\n",
       "      <th>Pulp Fiction</th>\n",
       "      <td>4</td>\n",
       "      <td>tt0110912</td>\n",
       "    </tr>\n",
       "    <tr>\n",
       "      <th>The Good, the Bad and the Ugly</th>\n",
       "      <td>5</td>\n",
       "      <td>tt0060196</td>\n",
       "    </tr>\n",
       "    <tr>\n",
       "      <th>...</th>\n",
       "      <td>...</td>\n",
       "      <td>...</td>\n",
       "    </tr>\n",
       "    <tr>\n",
       "      <th>Witness for the Prosecution</th>\n",
       "      <td>96</td>\n",
       "      <td>tt0051201</td>\n",
       "    </tr>\n",
       "    <tr>\n",
       "      <th>The Sting</th>\n",
       "      <td>97</td>\n",
       "      <td>tt0070735</td>\n",
       "    </tr>\n",
       "    <tr>\n",
       "      <th>The Apartment</th>\n",
       "      <td>98</td>\n",
       "      <td>tt0053604</td>\n",
       "    </tr>\n",
       "    <tr>\n",
       "      <th>Grave of the Fireflies</th>\n",
       "      <td>99</td>\n",
       "      <td>tt0095327</td>\n",
       "    </tr>\n",
       "    <tr>\n",
       "      <th>Indiana Jones and the Last Crusade</th>\n",
       "      <td>100</td>\n",
       "      <td>tt0097576</td>\n",
       "    </tr>\n",
       "  </tbody>\n",
       "</table>\n",
       "<p>100 rows × 2 columns</p>\n",
       "</div>"
      ],
      "text/plain": [
       "                                    rank         id\n",
       "title                                              \n",
       "The Shawshank Redemption               1  tt0111161\n",
       "The Godfather                          2  tt0068646\n",
       "The Godfather: Part II                 3  tt0071562\n",
       "Pulp Fiction                           4  tt0110912\n",
       "The Good, the Bad and the Ugly         5  tt0060196\n",
       "...                                  ...        ...\n",
       "Witness for the Prosecution           96  tt0051201\n",
       "The Sting                             97  tt0070735\n",
       "The Apartment                         98  tt0053604\n",
       "Grave of the Fireflies                99  tt0095327\n",
       "Indiana Jones and the Last Crusade   100  tt0097576\n",
       "\n",
       "[100 rows x 2 columns]"
      ]
     },
     "execution_count": 18,
     "metadata": {},
     "output_type": "execute_result"
    }
   ],
   "source": [
    "movie_rank_df = pd.read_json('https://raw.githubusercontent.com/hjorturlarsen/IMDB-top-100/master/data/movies.json')\n",
    "movie_rank_df.set_index('title',inplace=True)\n",
    "movie_rank_df\n",
    "#load json into dataframe for data preparing"
   ]
  },
  {
   "cell_type": "code",
   "execution_count": 20,
   "id": "b1207058-f1a7-4420-8ae6-211af9d5c0a0",
   "metadata": {},
   "outputs": [],
   "source": [
    "movie_rank_df.columns = [col.upper() for col in movie_rank_df]"
   ]
  },
  {
   "cell_type": "code",
   "execution_count": 21,
   "id": "4261e69d-993b-465d-a793-8471911d7449",
   "metadata": {},
   "outputs": [],
   "source": [
    "movie_rank_df=movie_rank_df.drop(columns='ID')\n",
    "#id is no need for information presenting"
   ]
  },
  {
   "cell_type": "code",
   "execution_count": 22,
   "id": "d476987d-86c7-4bae-9b3d-bc17bb5cbc70",
   "metadata": {},
   "outputs": [
    {
     "data": {
      "text/plain": [
       "RANK    0\n",
       "dtype: int64"
      ]
     },
     "execution_count": 22,
     "metadata": {},
     "output_type": "execute_result"
    }
   ],
   "source": [
    "movie_rank_df.isnull().sum()\n",
    "#null elements checked"
   ]
  },
  {
   "cell_type": "code",
   "execution_count": 23,
   "id": "471895e3-c700-41f3-ad92-41c1b2220da2",
   "metadata": {},
   "outputs": [
    {
     "data": {
      "text/html": [
       "<div>\n",
       "<style scoped>\n",
       "    .dataframe tbody tr th:only-of-type {\n",
       "        vertical-align: middle;\n",
       "    }\n",
       "\n",
       "    .dataframe tbody tr th {\n",
       "        vertical-align: top;\n",
       "    }\n",
       "\n",
       "    .dataframe thead th {\n",
       "        text-align: right;\n",
       "    }\n",
       "</style>\n",
       "<table border=\"1\" class=\"dataframe\">\n",
       "  <thead>\n",
       "    <tr style=\"text-align: right;\">\n",
       "      <th></th>\n",
       "      <th>RANK</th>\n",
       "    </tr>\n",
       "    <tr>\n",
       "      <th>title</th>\n",
       "      <th></th>\n",
       "    </tr>\n",
       "  </thead>\n",
       "  <tbody>\n",
       "    <tr>\n",
       "      <th>The Shawshank Redemption</th>\n",
       "      <td>1</td>\n",
       "    </tr>\n",
       "    <tr>\n",
       "      <th>The Godfather</th>\n",
       "      <td>2</td>\n",
       "    </tr>\n",
       "    <tr>\n",
       "      <th>The Godfather: Part II</th>\n",
       "      <td>3</td>\n",
       "    </tr>\n",
       "    <tr>\n",
       "      <th>Pulp Fiction</th>\n",
       "      <td>4</td>\n",
       "    </tr>\n",
       "    <tr>\n",
       "      <th>The Good, the Bad and the Ugly</th>\n",
       "      <td>5</td>\n",
       "    </tr>\n",
       "    <tr>\n",
       "      <th>The Dark Knight</th>\n",
       "      <td>6</td>\n",
       "    </tr>\n",
       "    <tr>\n",
       "      <th>12 Angry Men</th>\n",
       "      <td>7</td>\n",
       "    </tr>\n",
       "    <tr>\n",
       "      <th>Schindler's List</th>\n",
       "      <td>8</td>\n",
       "    </tr>\n",
       "    <tr>\n",
       "      <th>The Lord of the Rings: The Return of the King</th>\n",
       "      <td>9</td>\n",
       "    </tr>\n",
       "    <tr>\n",
       "      <th>Fight Club</th>\n",
       "      <td>10</td>\n",
       "    </tr>\n",
       "  </tbody>\n",
       "</table>\n",
       "</div>"
      ],
      "text/plain": [
       "                                               RANK\n",
       "title                                              \n",
       "The Shawshank Redemption                          1\n",
       "The Godfather                                     2\n",
       "The Godfather: Part II                            3\n",
       "Pulp Fiction                                      4\n",
       "The Good, the Bad and the Ugly                    5\n",
       "The Dark Knight                                   6\n",
       "12 Angry Men                                      7\n",
       "Schindler's List                                  8\n",
       "The Lord of the Rings: The Return of the King     9\n",
       "Fight Club                                       10"
      ]
     },
     "execution_count": 23,
     "metadata": {},
     "output_type": "execute_result"
    }
   ],
   "source": [
    "movie_rank_df.head(10)\n",
    "#for showing top 10 movies"
   ]
  },
  {
   "cell_type": "code",
   "execution_count": null,
   "id": "b9746eaa-1069-41a4-9bad-5efaf4379d23",
   "metadata": {},
   "outputs": [],
   "source": [
    "movie_rank_df.tail(10)\n",
    "#for showing last 10 bottom rank movies"
   ]
  },
  {
   "cell_type": "code",
   "execution_count": 6,
   "id": "c2e828c4-ec0a-4cb3-a06b-cd4943db8b30",
   "metadata": {},
   "outputs": [
    {
     "data": {
      "text/plain": [
       "0       1\n",
       "1       2\n",
       "2       3\n",
       "3       4\n",
       "4       5\n",
       "     ... \n",
       "95     96\n",
       "96     97\n",
       "97     98\n",
       "98     99\n",
       "99    100\n",
       "Name: RANK, Length: 100, dtype: int64"
      ]
     },
     "execution_count": 6,
     "metadata": {},
     "output_type": "execute_result"
    }
   ],
   "source": [
    "Ranking = movie_rank_df['RANK']\n",
    "Ranking"
   ]
  },
  {
   "cell_type": "code",
   "execution_count": null,
   "id": "f596e083-bcdb-4e48-936c-175421e9c342",
   "metadata": {},
   "outputs": [],
   "source": []
  }
 ],
 "metadata": {
  "kernelspec": {
   "display_name": "Python 3",
   "language": "python",
   "name": "python3"
  },
  "language_info": {
   "codemirror_mode": {
    "name": "ipython",
    "version": 3
   },
   "file_extension": ".py",
   "mimetype": "text/x-python",
   "name": "python",
   "nbconvert_exporter": "python",
   "pygments_lexer": "ipython3",
   "version": "3.9.1"
  }
 },
 "nbformat": 4,
 "nbformat_minor": 5
}
