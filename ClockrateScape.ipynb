{
 "cells": [
  {
   "cell_type": "code",
   "execution_count": 1,
   "id": "ede06e4c-94a7-424a-8674-1c844295c816",
   "metadata": {},
   "outputs": [],
   "source": [
    "from bs4 import BeautifulSoup\n",
    "import requests\n",
    "import json\n",
    "import re\n",
    "import pandas as pd\n",
    "import matplotlib.pyplot as plt"
   ]
  },
  {
   "cell_type": "code",
   "execution_count": 2,
   "id": "221ff902-0ed3-4413-b14d-fcae33a20484",
   "metadata": {},
   "outputs": [],
   "source": [
    "url = 'https://www.timeanddate.com/worldclock/full.html?sort=1'"
   ]
  },
  {
   "cell_type": "code",
   "execution_count": 3,
   "id": "f3ef8791-611d-41c0-81dc-428c7768f5c5",
   "metadata": {},
   "outputs": [
    {
     "data": {
      "text/plain": [
       "<Response [200]>"
      ]
     },
     "execution_count": 3,
     "metadata": {},
     "output_type": "execute_result"
    }
   ],
   "source": [
    "response = requests.get(url)\n",
    "response"
   ]
  },
  {
   "cell_type": "code",
   "execution_count": 4,
   "id": "2ade47a5-1c3a-47c0-b24d-93d86c6b13ec",
   "metadata": {},
   "outputs": [],
   "source": [
    "soup = BeautifulSoup(response.text, 'lxml')"
   ]
  },
  {
   "cell_type": "code",
   "execution_count": 5,
   "id": "7e3afd29-0ab2-4230-ac8e-53490dea1df0",
   "metadata": {},
   "outputs": [],
   "source": [
    "dates = soup.find_all('td', class_ = 'rbi')\n",
    "countries = soup.find_all('a',href= re.compile('/worldclock/'))"
   ]
  },
  {
   "cell_type": "code",
   "execution_count": 6,
   "id": "e7731b63-6464-4fae-91d3-0a0e9f18bc18",
   "metadata": {},
   "outputs": [],
   "source": [
    "df = pd.DataFrame(columns = ['Country', 'Date'])\n",
    "COUNTRY = []\n",
    "DATE = []"
   ]
  },
  {
   "cell_type": "code",
   "execution_count": 7,
   "id": "84ee0681-6826-4c94-99d1-b7fe60144762",
   "metadata": {},
   "outputs": [],
   "source": [
    "for country in countries:\n",
    "    safe = country.text.strip('\\n')\n",
    "    COUNTRY.append(safe)"
   ]
  },
  {
   "cell_type": "code",
   "execution_count": 8,
   "id": "35b36f9e-7fb8-4698-97a2-a7aaf0c8f00d",
   "metadata": {},
   "outputs": [],
   "source": [
    "for date in dates:\n",
    "    safe = date.text.strip('\\n')\n",
    "    DATE.append(safe)"
   ]
  },
  {
   "cell_type": "code",
   "execution_count": 9,
   "id": "333416be-9d1e-4b7d-9aee-77303be6559e",
   "metadata": {},
   "outputs": [],
   "source": [
    "N = 31\n",
    "df.drop(index=df.index[:N], \n",
    "        axis=0, \n",
    "        inplace=True)"
   ]
  },
  {
   "cell_type": "code",
   "execution_count": 10,
   "id": "6713f438-44a8-4c4c-a7dd-d3e167c9bdfa",
   "metadata": {},
   "outputs": [],
   "source": [
    "df['Country'] = COUNTRY"
   ]
  },
  {
   "cell_type": "code",
   "execution_count": 11,
   "id": "330b48b4-7a8d-4c92-a74c-b62bfa363dac",
   "metadata": {},
   "outputs": [
    {
     "data": {
      "text/html": [
       "<div>\n",
       "<style scoped>\n",
       "    .dataframe tbody tr th:only-of-type {\n",
       "        vertical-align: middle;\n",
       "    }\n",
       "\n",
       "    .dataframe tbody tr th {\n",
       "        vertical-align: top;\n",
       "    }\n",
       "\n",
       "    .dataframe thead th {\n",
       "        text-align: right;\n",
       "    }\n",
       "</style>\n",
       "<table border=\"1\" class=\"dataframe\">\n",
       "  <thead>\n",
       "    <tr style=\"text-align: right;\">\n",
       "      <th></th>\n",
       "      <th>Country</th>\n",
       "      <th>Date</th>\n",
       "    </tr>\n",
       "  </thead>\n",
       "  <tbody>\n",
       "    <tr>\n",
       "      <th>0</th>\n",
       "      <td>World Clock</td>\n",
       "      <td>NaN</td>\n",
       "    </tr>\n",
       "    <tr>\n",
       "      <th>1</th>\n",
       "      <td>Main World Clock</td>\n",
       "      <td>NaN</td>\n",
       "    </tr>\n",
       "    <tr>\n",
       "      <th>2</th>\n",
       "      <td>Extended World Clock</td>\n",
       "      <td>NaN</td>\n",
       "    </tr>\n",
       "    <tr>\n",
       "      <th>3</th>\n",
       "      <td>Personal World Clock</td>\n",
       "      <td>NaN</td>\n",
       "    </tr>\n",
       "    <tr>\n",
       "      <th>4</th>\n",
       "      <td>World Time Lookup</td>\n",
       "      <td>NaN</td>\n",
       "    </tr>\n",
       "    <tr>\n",
       "      <th>...</th>\n",
       "      <td>...</td>\n",
       "      <td>...</td>\n",
       "    </tr>\n",
       "    <tr>\n",
       "      <th>388</th>\n",
       "      <td>Search for a City and Find Local Time</td>\n",
       "      <td>NaN</td>\n",
       "    </tr>\n",
       "    <tr>\n",
       "      <th>389</th>\n",
       "      <td>Personal World Clock</td>\n",
       "      <td>NaN</td>\n",
       "    </tr>\n",
       "    <tr>\n",
       "      <th>390</th>\n",
       "      <td>Meeting Planner</td>\n",
       "      <td>NaN</td>\n",
       "    </tr>\n",
       "    <tr>\n",
       "      <th>391</th>\n",
       "      <td>Event Time Announcer</td>\n",
       "      <td>NaN</td>\n",
       "    </tr>\n",
       "    <tr>\n",
       "      <th>392</th>\n",
       "      <td>World Clock</td>\n",
       "      <td>NaN</td>\n",
       "    </tr>\n",
       "  </tbody>\n",
       "</table>\n",
       "<p>393 rows × 2 columns</p>\n",
       "</div>"
      ],
      "text/plain": [
       "                                   Country Date\n",
       "0                              World Clock  NaN\n",
       "1                         Main World Clock  NaN\n",
       "2                     Extended World Clock  NaN\n",
       "3                     Personal World Clock  NaN\n",
       "4                       World Time Lookup   NaN\n",
       "..                                     ...  ...\n",
       "388  Search for a City and Find Local Time  NaN\n",
       "389                   Personal World Clock  NaN\n",
       "390                        Meeting Planner  NaN\n",
       "391                   Event Time Announcer  NaN\n",
       "392                            World Clock  NaN\n",
       "\n",
       "[393 rows x 2 columns]"
      ]
     },
     "execution_count": 11,
     "metadata": {},
     "output_type": "execute_result"
    }
   ],
   "source": [
    "df"
   ]
  },
  {
   "cell_type": "code",
   "execution_count": 27,
   "id": "94870210-bdb4-48ec-924d-09dc3e0db2be",
   "metadata": {},
   "outputs": [],
   "source": [
    "df.drop(df.tail(6).index,inplace=True)"
   ]
  },
  {
   "cell_type": "code",
   "execution_count": 28,
   "id": "1c7b260e-3ada-4fdf-907a-bcea5d045ae3",
   "metadata": {},
   "outputs": [],
   "source": [
    "df['Date'] = DATE"
   ]
  },
  {
   "cell_type": "code",
   "execution_count": 29,
   "id": "c0fedb7d-5b01-4372-90bd-2574b79a9ea3",
   "metadata": {},
   "outputs": [
    {
     "data": {
      "text/html": [
       "<div>\n",
       "<style scoped>\n",
       "    .dataframe tbody tr th:only-of-type {\n",
       "        vertical-align: middle;\n",
       "    }\n",
       "\n",
       "    .dataframe tbody tr th {\n",
       "        vertical-align: top;\n",
       "    }\n",
       "\n",
       "    .dataframe thead th {\n",
       "        text-align: right;\n",
       "    }\n",
       "</style>\n",
       "<table border=\"1\" class=\"dataframe\">\n",
       "  <thead>\n",
       "    <tr style=\"text-align: right;\">\n",
       "      <th></th>\n",
       "      <th>Country</th>\n",
       "      <th>Date</th>\n",
       "    </tr>\n",
       "  </thead>\n",
       "  <tbody>\n",
       "    <tr>\n",
       "      <th>31</th>\n",
       "      <td>Afghanistan, Kabul</td>\n",
       "      <td>วันศุกร์ 15:35</td>\n",
       "    </tr>\n",
       "    <tr>\n",
       "      <th>32</th>\n",
       "      <td>Albania, Tirana</td>\n",
       "      <td>วันศุกร์ 12:05</td>\n",
       "    </tr>\n",
       "    <tr>\n",
       "      <th>33</th>\n",
       "      <td>Algeria, Algiers</td>\n",
       "      <td>วันศุกร์ 12:05</td>\n",
       "    </tr>\n",
       "    <tr>\n",
       "      <th>34</th>\n",
       "      <td>Angola, Luanda</td>\n",
       "      <td>วันศุกร์ 12:05</td>\n",
       "    </tr>\n",
       "    <tr>\n",
       "      <th>35</th>\n",
       "      <td>Argentina, Buenos Aires</td>\n",
       "      <td>วันศุกร์ 08:05</td>\n",
       "    </tr>\n",
       "    <tr>\n",
       "      <th>...</th>\n",
       "      <td>...</td>\n",
       "      <td>...</td>\n",
       "    </tr>\n",
       "    <tr>\n",
       "      <th>382</th>\n",
       "      <td>Vietnam, Hanoi</td>\n",
       "      <td>วันศุกร์ 18:05</td>\n",
       "    </tr>\n",
       "    <tr>\n",
       "      <th>383</th>\n",
       "      <td>Western Sahara, El Aaiún</td>\n",
       "      <td>วันศุกร์ 12:05</td>\n",
       "    </tr>\n",
       "    <tr>\n",
       "      <th>384</th>\n",
       "      <td>Yemen, Sana</td>\n",
       "      <td>วันศุกร์ 14:05</td>\n",
       "    </tr>\n",
       "    <tr>\n",
       "      <th>385</th>\n",
       "      <td>Zambia, Lusaka</td>\n",
       "      <td>วันศุกร์ 13:05</td>\n",
       "    </tr>\n",
       "    <tr>\n",
       "      <th>386</th>\n",
       "      <td>Zimbabwe, Harare</td>\n",
       "      <td>วันศุกร์ 13:05</td>\n",
       "    </tr>\n",
       "  </tbody>\n",
       "</table>\n",
       "<p>356 rows × 2 columns</p>\n",
       "</div>"
      ],
      "text/plain": [
       "                      Country            Date\n",
       "31         Afghanistan, Kabul  วันศุกร์ 15:35\n",
       "32            Albania, Tirana  วันศุกร์ 12:05\n",
       "33           Algeria, Algiers  วันศุกร์ 12:05\n",
       "34             Angola, Luanda  วันศุกร์ 12:05\n",
       "35    Argentina, Buenos Aires  วันศุกร์ 08:05\n",
       "..                        ...             ...\n",
       "382            Vietnam, Hanoi  วันศุกร์ 18:05\n",
       "383  Western Sahara, El Aaiún  วันศุกร์ 12:05\n",
       "384               Yemen, Sana  วันศุกร์ 14:05\n",
       "385            Zambia, Lusaka  วันศุกร์ 13:05\n",
       "386          Zimbabwe, Harare  วันศุกร์ 13:05\n",
       "\n",
       "[356 rows x 2 columns]"
      ]
     },
     "execution_count": 29,
     "metadata": {},
     "output_type": "execute_result"
    }
   ],
   "source": [
    "df"
   ]
  },
  {
   "cell_type": "code",
   "execution_count": 30,
   "id": "3b2c58bb-5524-4fb5-96fc-307e78d13b8c",
   "metadata": {},
   "outputs": [],
   "source": [
    "df.to_excel(\"output1.xlsx\")"
   ]
  },
  {
   "cell_type": "code",
   "execution_count": null,
   "id": "6cfef0ca-74ff-42ba-9250-401f12f4b1d2",
   "metadata": {},
   "outputs": [],
   "source": []
  }
 ],
 "metadata": {
  "kernelspec": {
   "display_name": "Python 3",
   "language": "python",
   "name": "python3"
  },
  "language_info": {
   "codemirror_mode": {
    "name": "ipython",
    "version": 3
   },
   "file_extension": ".py",
   "mimetype": "text/x-python",
   "name": "python",
   "nbconvert_exporter": "python",
   "pygments_lexer": "ipython3",
   "version": "3.9.1"
  }
 },
 "nbformat": 4,
 "nbformat_minor": 5
}
